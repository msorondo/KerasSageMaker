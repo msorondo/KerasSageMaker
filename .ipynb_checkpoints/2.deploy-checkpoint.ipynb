{
 "cells": [
  {
   "cell_type": "code",
   "execution_count": 5,
   "metadata": {},
   "outputs": [
    {
     "name": "stderr",
     "output_type": "stream",
     "text": [
      "Parameter image will be renamed to image_uri in SageMaker Python SDK v2.\n",
      "2.1.0 is the latest version of tensorflow that supports Python 2. Newer versions of tensorflow will only be available for Python 3.Please set the argument \"py_version='py3'\" to use the Python 3 tensorflow image.\n",
      "No framework_version specified, defaulting to version 1.11. framework_version will be required in SageMaker Python SDK v2. This is not the latest supported version. If you would like to use version 2.2.0, please add framework_version=2.2.0 to your constructor.\n"
     ]
    },
    {
     "name": "stdout",
     "output_type": "stream",
     "text": [
      "Deploying ...\n"
     ]
    },
    {
     "name": "stderr",
     "output_type": "stream",
     "text": [
      "'create_image_uri' will be deprecated in favor of 'ImageURIProvider' class in SageMaker Python SDK v2.\n"
     ]
    },
    {
     "name": "stdout",
     "output_type": "stream",
     "text": [
      "---------------!"
     ]
    }
   ],
   "source": [
    "import sagemaker\n",
    "import numpy as np\n",
    "from sagemaker.tensorflow import TensorFlowModel\n",
    "\n",
    "\n",
    "model_data = \"s3://sagemaker-us-east-1-471361871242/sagemaker-tensorflow-2020-08-20-17-33-56-421/output/model.tar.gz\"\n",
    "    \n",
    "model = TensorFlowModel(\n",
    "                        entry_point=\"cats_n_dogs.py\",\n",
    "                        model_data=model_data, \n",
    "                        role=sagemaker.get_execution_role() )\n",
    "\n",
    "print(\"Deploying ...\")\n",
    "\n",
    "#estimator = sagemaker.estimator.Estimator.attach(args.model_name)\n",
    "\n",
    "predictor = model.deploy(initial_instance_count=1,\n",
    "                                 instance_type='ml.p2.xlarge',\n",
    "                                 update_endpoint=False\n",
    "                                )\n",
    "\n",
    "print(predictor.endpoint)\n",
    "print(\"done!\")\n",
    "\n"
   ]
  },
  {
   "cell_type": "code",
   "execution_count": null,
   "metadata": {},
   "outputs": [],
   "source": []
  }
 ],
 "metadata": {
  "kernelspec": {
   "display_name": "conda_tensorflow_p36",
   "language": "python",
   "name": "conda_tensorflow_p36"
  },
  "language_info": {
   "codemirror_mode": {
    "name": "ipython",
    "version": 3
   },
   "file_extension": ".py",
   "mimetype": "text/x-python",
   "name": "python",
   "nbconvert_exporter": "python",
   "pygments_lexer": "ipython3",
   "version": "3.6.10"
  }
 },
 "nbformat": 4,
 "nbformat_minor": 4
}
