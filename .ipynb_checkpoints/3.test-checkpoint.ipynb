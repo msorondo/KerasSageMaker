{
 "cells": [
  {
   "cell_type": "code",
   "execution_count": null,
   "metadata": {},
   "outputs": [],
   "source": [
    "import numpy as np\n",
    "import sagemaker\n",
    "from tensorflow.python.keras.preprocessing.image import load_img\n",
    "from sagemaker.predictor import json_deserializer, json_serializer\n",
    "\n",
    "\n",
    "cat_image = load_img(\"./tmp/alf.jpg\", target_size=(128, 128))\n",
    "cat_image_array = np.array(cat_image).reshape((1, 128, 128, 3))\n",
    "\n",
    "\n",
    "\n",
    "endpoint_name = 'sagemaker-tensorflow-2020-08-17-17-06-36-663'\n",
    "\n",
    "predictor = sagemaker.predictor.RealTimePredictor(\n",
    "    endpoint=endpoint_name,\n",
    "    content_type='application/json',\n",
    "    accept='application/json')\n",
    "\n",
    "\n",
    "predictor.serializer = json_serializer\n",
    "predictor.deserializer = json_deserializer\n",
    "\n",
    "result = predictor.predict({'inputs_input': cat_image_array})\n",
    "\n",
    "print(result)"
   ]
  }
 ],
 "metadata": {
  "kernelspec": {
   "display_name": "conda_tensorflow_p36",
   "language": "python",
   "name": "conda_tensorflow_p36"
  },
  "language_info": {
   "codemirror_mode": {
    "name": "ipython",
    "version": 3
   },
   "file_extension": ".py",
   "mimetype": "text/x-python",
   "name": "python",
   "nbconvert_exporter": "python",
   "pygments_lexer": "ipython3",
   "version": "3.6.10"
  }
 },
 "nbformat": 4,
 "nbformat_minor": 4
}
