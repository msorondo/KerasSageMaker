{
 "cells": [
  {
   "cell_type": "code",
   "execution_count": 19,
   "metadata": {},
   "outputs": [
    {
     "name": "stdout",
     "output_type": "stream",
     "text": [
      "cat:\n",
      "{'outputs': {'dense_2': {'dtype': 'DT_FLOAT', 'floatVal': [0.0, 1.0], 'tensorShape': {'dim': [{'size': '1'}, {'size': '2'}]}}}, 'modelSpec': {'version': '1597772433', 'name': 'generic_model', 'signatureName': 'serving_default'}}\n",
      "dog:\n",
      "{'outputs': {'dense_2': {'dtype': 'DT_FLOAT', 'floatVal': [1.0, 0.0], 'tensorShape': {'dim': [{'size': '1'}, {'size': '2'}]}}}, 'modelSpec': {'version': '1597772433', 'name': 'generic_model', 'signatureName': 'serving_default'}}\n"
     ]
    }
   ],
   "source": [
    "import numpy as np\n",
    "from tensorflow.python.keras.preprocessing.image import load_img\n",
    "from sagemaker.predictor import json_deserializer, json_serializer\n",
    "\n",
    "\n",
    "cat_image = load_img(\"4610.jpg\", target_size=(128, 128))\n",
    "cat_image_array = np.array(cat_image).reshape((1, 128, 128, 3))\n",
    "\n",
    "dog_image = load_img(\"perrito.jpg\", target_size=(128, 128))\n",
    "dog_image_array = np.array(dog_image).reshape((1, 128, 128, 3))\n",
    "\n",
    "endpoint = 'sagemaker-tensorflow-2020-08-18-17-34-33-772'\n",
    "\n",
    "predictor = sagemaker.predictor.RealTimePredictor(\n",
    "    endpoint=endpoint,\n",
    "    serializer=json_serializer,\n",
    "    deserializer=json_deserializer,\n",
    "    content_type='application/json',\n",
    "    accept='application/json',)\n",
    "\n",
    "#result_cat = predictor.predict({'inputs_input': cat_image_array})\n",
    "#print(\"cat:\")\n",
    "#print(result_cat)\n",
    "\n",
    "result_dog = predictor.predict({'inputs_input': dog_image_array})\n",
    "print(\"dog:\")\n",
    "print(result_dog)"
   ]
  },
  {
   "cell_type": "code",
   "execution_count": null,
   "metadata": {},
   "outputs": [],
   "source": []
  }
 ],
 "metadata": {
  "kernelspec": {
   "display_name": "conda_tensorflow_p36",
   "language": "python",
   "name": "conda_tensorflow_p36"
  },
  "language_info": {
   "codemirror_mode": {
    "name": "ipython",
    "version": 3
   },
   "file_extension": ".py",
   "mimetype": "text/x-python",
   "name": "python",
   "nbconvert_exporter": "python",
   "pygments_lexer": "ipython3",
   "version": "3.6.10"
  }
 },
 "nbformat": 4,
 "nbformat_minor": 4
}
