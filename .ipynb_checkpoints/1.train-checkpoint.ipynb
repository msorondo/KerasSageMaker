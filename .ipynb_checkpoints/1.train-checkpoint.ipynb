{
 "cells": [
  {
   "cell_type": "code",
   "execution_count": null,
   "metadata": {},
   "outputs": [],
   "source": [
    "import sagemaker\n",
    "from sagemaker.tensorflow import TensorFlow\n",
    "\n",
    "train_instance_type=      # The type of EC2 instance which will be used for training\n",
    "\n",
    "hyperparameters={\n",
    "    \"learning_rate\": 1e-4,\n",
    "    \"decay\": 1e-6\n",
    "}\n",
    "\n",
    "train_input_path = \"s3://utec-workshop-cats-n-dogs/data/train/\"\n",
    "validation_input_path = \"s3://utec-workshop-cats-n-dogs/data/validation/\"\n",
    "\n",
    "estimator = TensorFlow(\n",
    "  entry_point=\"cats_n_dogs.py\",             # Your entry script\n",
    "  role=sagemaker.get_execution_role(),\n",
    "  framework_version=\"1.12.0\",               # TensorFlow's version\n",
    "  hyperparameters=hyperparameters,\n",
    "  training_steps=1000,\n",
    "  evaluation_steps=100,\n",
    "  train_instance_count=1,                   # \"The number of GPUs instances to use\"\n",
    "  train_instance_type='ml.p2.xlarge',\n",
    ")\n",
    "\n",
    "estimator.fit({'training': train_input_path, 'eval': validation_input_path})"
   ]
  }
 ],
 "metadata": {
  "kernelspec": {
   "display_name": "conda_tensorflow_p36",
   "language": "python",
   "name": "conda_tensorflow_p36"
  },
  "language_info": {
   "codemirror_mode": {
    "name": "ipython",
    "version": 3
   },
   "file_extension": ".py",
   "mimetype": "text/x-python",
   "name": "python",
   "nbconvert_exporter": "python",
   "pygments_lexer": "ipython3",
   "version": "3.6.10"
  }
 },
 "nbformat": 4,
 "nbformat_minor": 4
}
