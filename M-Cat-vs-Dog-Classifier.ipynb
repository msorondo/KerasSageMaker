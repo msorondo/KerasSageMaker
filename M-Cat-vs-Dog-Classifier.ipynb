{
 "cells": [
  {
   "cell_type": "code",
   "execution_count": null,
   "id": "flush-painting",
   "metadata": {},
   "outputs": [],
   "source": [
    "import tensorflow as tf\n",
    "import sagemaker"
   ]
  },
  {
   "cell_type": "code",
   "execution_count": null,
   "id": "radio-geneva",
   "metadata": {},
   "outputs": [],
   "source": [
    "tf.__version__"
   ]
  },
  {
   "cell_type": "code",
   "execution_count": null,
   "id": "former-endorsement",
   "metadata": {},
   "outputs": [],
   "source": [
    "import keras"
   ]
  },
  {
   "cell_type": "code",
   "execution_count": null,
   "id": "inside-triangle",
   "metadata": {},
   "outputs": [],
   "source": [
    "import boto3\n",
    "sagemaker_session = sagemaker.Session()\n",
    "\n",
    "training_input_path = \"s3://utec-workshop-cats-n-dogs/data/\"\n",
    "training_input_path"
   ]
  },
  {
   "cell_type": "code",
   "execution_count": null,
   "id": "interpreted-fraction",
   "metadata": {},
   "outputs": [],
   "source": [
    "tf_version = tf.__version__\n",
    "tf_version\n",
    "\n",
    "role = sagemaker.get_execution_role()\n",
    "role"
   ]
  },
  {
   "cell_type": "code",
   "execution_count": null,
   "id": "dense-polls",
   "metadata": {},
   "outputs": [],
   "source": [
    "from sagemaker.tensorflow import TensorFlow\n",
    "\n",
    "tf_estimator = TensorFlow(entry_point='model.py', \n",
    "                          role=role,\n",
    "                          instance_count=1, \n",
    "                          instance_type='ml.g4dn.xlarge',\n",
    "                          framework_version='2.4', \n",
    "                          py_version='py37',\n",
    "                          script_mode=True,\n",
    "                          hyperparameters={\n",
    "                              'epochs': 1,\n",
    "                          }\n",
    "                         )\n",
    "\n",
    "#Training\n",
    "tf_estimator.fit({'train': training_input_path})"
   ]
  },
  {
   "cell_type": "code",
   "execution_count": null,
   "id": "renewable-bachelor",
   "metadata": {},
   "outputs": [],
   "source": [
    "import time\n",
    "tf_endpoint_name = 'dog-cat-classifier'+time.strftime(\"%Y-%m-%d-%H-%M-%S\", time.gmtime())\n",
    "tf_predictor = tf_estimator.deploy(initial_instance_count=1,instance_type='ml.m5.4xlarge',\n",
    "                                   endpoint_name=tf_endpoint_name)"
   ]
  },
  {
   "cell_type": "code",
   "execution_count": null,
   "id": "contemporary-jerusalem",
   "metadata": {},
   "outputs": [],
   "source": []
  },
  {
   "cell_type": "code",
   "execution_count": null,
   "id": "recognized-weekly",
   "metadata": {},
   "outputs": [],
   "source": []
  },
  {
   "cell_type": "code",
   "execution_count": null,
   "id": "behavioral-brass",
   "metadata": {},
   "outputs": [],
   "source": [
    "from tensorflow.python.keras.preprocessing.image import load_img\n",
    "import numpy as np"
   ]
  },
  {
   "cell_type": "code",
   "execution_count": null,
   "id": "conditional-classics",
   "metadata": {},
   "outputs": [],
   "source": [
    "img = load_img(\"./test_images/9718.jpg\", target_size=(256, 256))\n",
    "img = np.array(img).reshape((1, 256, 256, 3))"
   ]
  },
  {
   "cell_type": "code",
   "execution_count": null,
   "id": "amended-keeping",
   "metadata": {},
   "outputs": [],
   "source": [
    "img.shape"
   ]
  },
  {
   "cell_type": "code",
   "execution_count": null,
   "id": "significant-suspect",
   "metadata": {},
   "outputs": [],
   "source": [
    "predictions = tf_predictor.predict(img)['predictions'] #returns a list of lists"
   ]
  },
  {
   "cell_type": "code",
   "execution_count": null,
   "id": "large-scenario",
   "metadata": {},
   "outputs": [],
   "source": [
    "print(\"dog\" if predictions[0][0]>0 else \"Cat\")"
   ]
  }
 ],
 "metadata": {
  "kernelspec": {
   "display_name": "conda_tensorflow2_p36",
   "language": "python",
   "name": "conda_tensorflow2_p36"
  },
  "language_info": {
   "codemirror_mode": {
    "name": "ipython",
    "version": 3
   },
   "file_extension": ".py",
   "mimetype": "text/x-python",
   "name": "python",
   "nbconvert_exporter": "python",
   "pygments_lexer": "ipython3",
   "version": "3.6.13"
  }
 },
 "nbformat": 4,
 "nbformat_minor": 5
}
