{
 "cells": [
  {
   "cell_type": "code",
   "execution_count": null,
   "metadata": {},
   "outputs": [],
   "source": [
    "import numpy as np\n",
    "from tensorflow.python.keras.preprocessing.image import load_img\n",
    "from sagemaker.predictor import json_deserializer, json_serializer\n",
    "\n",
    "\n",
    "cat_image = load_img(\"alf.jpg\", target_size=(128, 128))\n",
    "cat_image_array = np.array(cat_image).reshape((1, 128, 128, 3))\n",
    "\n",
    "endpoint = 'testendpoint'\n",
    "\n",
    "predictor = sagemaker.predictor.RealTimePredictor(\n",
    "    endpoint=endpoint,\n",
    "    serializer=json_serializer,\n",
    "    deserializer=json_deserializer,\n",
    "    content_type='application/json',\n",
    "    accept='application/json',)\n",
    "\n",
    "result = predictor.predict({'inputs_input': cat_image_array})\n",
    "\n",
    "print(result)"
   ]
  },
  {
   "cell_type": "code",
   "execution_count": null,
   "metadata": {},
   "outputs": [],
   "source": []
  }
 ],
 "metadata": {
  "kernelspec": {
   "display_name": "conda_tensorflow_p36",
   "language": "python",
   "name": "conda_tensorflow_p36"
  },
  "language_info": {
   "codemirror_mode": {
    "name": "ipython",
    "version": 3
   },
   "file_extension": ".py",
   "mimetype": "text/x-python",
   "name": "python",
   "nbconvert_exporter": "python",
   "pygments_lexer": "ipython3",
   "version": "3.6.10"
  }
 },
 "nbformat": 4,
 "nbformat_minor": 4
}
