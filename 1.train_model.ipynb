{
 "cells": [
  {
   "cell_type": "markdown",
   "metadata": {},
   "source": [
    "# 1. Train & Deploy Model Notebook"
   ]
  },
  {
   "cell_type": "markdown",
   "metadata": {},
   "source": [
    "## Declaraciones"
   ]
  },
  {
   "cell_type": "code",
   "execution_count": 46,
   "metadata": {},
   "outputs": [],
   "source": [
    "import sagemaker\n",
    "from sagemaker.tensorflow import TensorFlow"
   ]
  },
  {
   "cell_type": "markdown",
   "metadata": {},
   "source": [
    "## Entrenamiento"
   ]
  },
  {
   "cell_type": "markdown",
   "metadata": {},
   "source": [
    "Parámetros de entrada:"
   ]
  },
  {
   "cell_type": "code",
   "execution_count": 47,
   "metadata": {},
   "outputs": [],
   "source": [
    "hyperparameters={\n",
    "    \"learning_rate\": 1e-4,\n",
    "    \"decay\": 1e-6\n",
    "}\n",
    "\n",
    "train_input_path = \"s3://utec-workshop-cats-n-dogs/data/train/\"\n",
    "validation_input_path = \"s3://utec-workshop-cats-n-dogs/data/validation/\""
   ]
  },
  {
   "cell_type": "markdown",
   "metadata": {},
   "source": [
    "A partir de los parámetros creamos la definición del modelo:"
   ]
  },
  {
   "cell_type": "code",
   "execution_count": 48,
   "metadata": {},
   "outputs": [
    {
     "name": "stderr",
     "output_type": "stream",
     "text": [
      "2.1.0 is the latest version of tensorflow that supports Python 2. Newer versions of tensorflow will only be available for Python 3.Please set the argument \"py_version='py3'\" to use the Python 3 tensorflow image.\n"
     ]
    }
   ],
   "source": [
    "estimator = TensorFlow(\n",
    "  entry_point=\"cats_n_dogs_model.py\",             # Your entry script\n",
    "  role=sagemaker.get_execution_role(),\n",
    "  framework_version=\"1.12.0\",               # TensorFlow's version\n",
    "  hyperparameters=hyperparameters,\n",
    "  training_steps=1000,\n",
    "  evaluation_steps=100,\n",
    "  train_instance_count=1,                   # \"The number of GPUs instances to use\"\n",
    "  train_instance_type='ml.p2.xlarge',\n",
    ")"
   ]
  },
  {
   "cell_type": "markdown",
   "metadata": {},
   "source": [
    "Finalmente ejecutamos el entrenamiento:"
   ]
  },
  {
   "cell_type": "code",
   "execution_count": 49,
   "metadata": {},
   "outputs": [
    {
     "name": "stderr",
     "output_type": "stream",
     "text": [
      "'create_image_uri' will be deprecated in favor of 'ImageURIProvider' class in SageMaker Python SDK v2.\n"
     ]
    },
    {
     "name": "stdout",
     "output_type": "stream",
     "text": [
      "Training ...\n"
     ]
    },
    {
     "name": "stderr",
     "output_type": "stream",
     "text": [
      "'s3_input' class will be renamed to 'TrainingInput' in SageMaker Python SDK v2.\n",
      "'s3_input' class will be renamed to 'TrainingInput' in SageMaker Python SDK v2.\n",
      "'create_image_uri' will be deprecated in favor of 'ImageURIProvider' class in SageMaker Python SDK v2.\n"
     ]
    },
    {
     "name": "stdout",
     "output_type": "stream",
     "text": [
      "2020-08-26 00:36:24 Starting - Starting the training job...\n",
      "2020-08-26 00:36:26 Starting - Launching requested ML instances.........\n",
      "2020-08-26 00:38:07 Starting - Preparing the instances for training......\n",
      "2020-08-26 00:39:22 Downloading - Downloading input data.....................\n",
      "2020-08-26 00:42:49 Training - Downloading the training image...\n",
      "2020-08-26 00:43:11 Training - Training image download completed. Training in progress.\u001b[34m2020-08-26 00:43:10,793 INFO - root - running container entrypoint\u001b[0m\n",
      "\u001b[34m2020-08-26 00:43:10,793 INFO - root - starting train task\u001b[0m\n",
      "\u001b[34m2020-08-26 00:43:10,818 INFO - container_support.training - Training starting\u001b[0m\n",
      "\u001b[34mDownloading s3://sagemaker-us-east-1-471361871242/sagemaker-tensorflow-2020-08-26-00-36-23-892/source/sourcedir.tar.gz to /tmp/script.tar.gz\u001b[0m\n",
      "\u001b[34m2020-08-26 00:43:18,308 INFO - tf_container - ----------------------TF_CONFIG--------------------------\u001b[0m\n",
      "\u001b[34m2020-08-26 00:43:18,308 INFO - tf_container - {\"environment\": \"cloud\", \"cluster\": {\"master\": [\"algo-1:2222\"]}, \"task\": {\"index\": 0, \"type\": \"master\"}}\u001b[0m\n",
      "\u001b[34m2020-08-26 00:43:18,308 INFO - tf_container - ---------------------------------------------------------\u001b[0m\n",
      "\u001b[34m2020-08-26 00:43:18,308 INFO - tf_container - creating RunConfig:\u001b[0m\n",
      "\u001b[34m2020-08-26 00:43:18,308 INFO - tf_container - {'save_checkpoints_secs': 300}\u001b[0m\n",
      "\u001b[34m2020-08-26 00:43:18,308 INFO - tensorflow - TF_CONFIG environment variable: {u'environment': u'cloud', u'cluster': {u'master': [u'algo-1:2222']}, u'task': {u'index': 0, u'type': u'master'}}\u001b[0m\n",
      "\u001b[34m2020-08-26 00:43:18,309 INFO - tf_container - invoking the user-provided keras_model_fn\u001b[0m\n",
      "\u001b[34m2020-08-26 00:43:18,644 INFO - tensorflow - Using the Keras model provided.\u001b[0m\n",
      "\u001b[34m2020-08-26 00:43:24,688 INFO - tensorflow - Using config: {'_save_checkpoints_secs': 300, '_keep_checkpoint_max': 5, '_task_type': u'master', '_cluster_spec': <tensorflow.python.training.server_lib.ClusterSpec object at 0x7fa04624c750>, '_keep_checkpoint_every_n_hours': 10000, '_service': None, '_num_ps_replicas': 0, '_tf_random_seed': None, '_device_fn': None, '_num_worker_replicas': 1, '_task_id': 0, '_log_step_count_steps': 100, '_evaluation_master': '', '_eval_distribute': None, '_train_distribute': None, '_session_config': device_filters: \"/job:ps\"\u001b[0m\n",
      "\u001b[34mdevice_filters: \"/job:master\"\u001b[0m\n",
      "\u001b[34mallow_soft_placement: true\u001b[0m\n",
      "\u001b[34mgraph_options {\n",
      "  rewrite_options {\n",
      "    meta_optimizer_iterations: ONE\n",
      "  }\u001b[0m\n",
      "\u001b[34m}\u001b[0m\n",
      "\u001b[34m, '_global_id_in_cluster': 0, '_is_chief': True, '_protocol': None, '_save_checkpoints_steps': None, '_experimental_distribute': None, '_save_summary_steps': 100, '_model_dir': u's3://sagemaker-us-east-1-471361871242/sagemaker-tensorflow-2020-08-26-00-36-23-892/checkpoints', '_master': ''}\u001b[0m\n",
      "\u001b[34m2020-08-26 00:43:24,726 INFO - tensorflow - Not using Distribute Coordinator.\u001b[0m\n",
      "\u001b[34m2020-08-26 00:43:24,726 INFO - tensorflow - Skip starting Tensorflow server as there is only one node in the cluster.\u001b[0m\n",
      "\u001b[34mFound 22000 images belonging to 2 classes.\u001b[0m\n",
      "\u001b[34m2020-08-26 00:43:26,642 INFO - tensorflow - Calling model_fn.\u001b[0m\n",
      "\u001b[34m2020-08-26 00:43:27,454 INFO - tensorflow - Done calling model_fn.\u001b[0m\n",
      "\u001b[34m2020-08-26 00:43:27,454 INFO - tensorflow - Warm-starting with WarmStartSettings: WarmStartSettings(ckpt_to_initialize_from=u's3://sagemaker-us-east-1-471361871242/sagemaker-tensorflow-2020-08-26-00-36-23-892/checkpoints/keras/keras_model.ckpt', vars_to_warm_start='.*', var_name_to_vocab_info={}, var_name_to_prev_var_name={})\u001b[0m\n",
      "\u001b[34m2020-08-26 00:43:27,454 INFO - tensorflow - Warm-starting from: (u's3://sagemaker-us-east-1-471361871242/sagemaker-tensorflow-2020-08-26-00-36-23-892/checkpoints/keras/keras_model.ckpt',)\u001b[0m\n",
      "\u001b[34m2020-08-26 00:43:27,455 INFO - tensorflow - Warm-starting variable: conv2d_2/kernel; prev_var_name: Unchanged\u001b[0m\n",
      "\u001b[34m2020-08-26 00:43:27,660 INFO - tensorflow - Warm-starting variable: dense_1/bias; prev_var_name: Unchanged\u001b[0m\n",
      "\u001b[34m2020-08-26 00:43:27,888 INFO - tensorflow - Warm-starting variable: conv2d_1/bias; prev_var_name: Unchanged\u001b[0m\n",
      "\u001b[34m2020-08-26 00:43:28,113 INFO - tensorflow - Warm-starting variable: dense/kernel; prev_var_name: Unchanged\u001b[0m\n",
      "\u001b[34m2020-08-26 00:43:28,356 INFO - tensorflow - Warm-starting variable: conv2d_3/bias; prev_var_name: Unchanged\u001b[0m\n",
      "\u001b[34m2020-08-26 00:43:28,549 INFO - tensorflow - Warm-starting variable: dense/bias; prev_var_name: Unchanged\u001b[0m\n",
      "\u001b[34m2020-08-26 00:43:28,805 INFO - tensorflow - Warm-starting variable: inputs/bias; prev_var_name: Unchanged\u001b[0m\n",
      "\u001b[34m2020-08-26 00:43:29,115 INFO - tensorflow - Warm-starting variable: inputs/kernel; prev_var_name: Unchanged\u001b[0m\n",
      "\u001b[34m2020-08-26 00:43:29,329 INFO - tensorflow - Warm-starting variable: dense_1/kernel; prev_var_name: Unchanged\u001b[0m\n",
      "\u001b[34m2020-08-26 00:43:29,778 INFO - tensorflow - Warm-starting variable: conv2d_3/kernel; prev_var_name: Unchanged\u001b[0m\n",
      "\u001b[34m2020-08-26 00:43:30,281 INFO - tensorflow - Warm-starting variable: conv2d/bias; prev_var_name: Unchanged\u001b[0m\n",
      "\u001b[34m2020-08-26 00:43:30,494 INFO - tensorflow - Warm-starting variable: conv2d_1/kernel; prev_var_name: Unchanged\u001b[0m\n",
      "\u001b[34m2020-08-26 00:43:30,749 INFO - tensorflow - Warm-starting variable: conv2d_2/bias; prev_var_name: Unchanged\u001b[0m\n",
      "\u001b[34m2020-08-26 00:43:31,020 INFO - tensorflow - Warm-starting variable: conv2d/kernel; prev_var_name: Unchanged\u001b[0m\n",
      "\u001b[34m2020-08-26 00:43:31,255 INFO - tensorflow - Create CheckpointSaverHook.\u001b[0m\n",
      "\u001b[34m2020-08-26 00:43:32,280 INFO - tensorflow - Graph was finalized.\u001b[0m\n",
      "\u001b[34m2020-08-26 00:43:33,378 INFO - tensorflow - Running local_init_op.\u001b[0m\n",
      "\u001b[34m2020-08-26 00:43:33,388 INFO - tensorflow - Done running local_init_op.\u001b[0m\n",
      "\u001b[34m2020-08-26 00:43:35,596 INFO - tensorflow - Saving checkpoints for 0 into s3://sagemaker-us-east-1-471361871242/sagemaker-tensorflow-2020-08-26-00-36-23-892/checkpoints/model.ckpt.\u001b[0m\n",
      "\u001b[34m2020-08-26 00:43:46,942 INFO - tensorflow - loss = 0.6921427, step = 0\u001b[0m\n",
      "\u001b[34m2020-08-26 00:43:54,635 INFO - tensorflow - global_step/sec: 12.998\u001b[0m\n",
      "\u001b[34m2020-08-26 00:43:54,636 INFO - tensorflow - loss = 0.6484992, step = 100 (7.694 sec)\u001b[0m\n",
      "\u001b[34m2020-08-26 00:44:01,652 INFO - tensorflow - global_step/sec: 14.251\u001b[0m\n",
      "\u001b[34m2020-08-26 00:44:01,653 INFO - tensorflow - loss = 0.5869851, step = 200 (7.017 sec)\u001b[0m\n",
      "\u001b[34m2020-08-26 00:44:08,648 INFO - tensorflow - global_step/sec: 14.2938\u001b[0m\n",
      "\u001b[34m2020-08-26 00:44:08,649 INFO - tensorflow - loss = 0.50577706, step = 300 (6.996 sec)\u001b[0m\n",
      "\u001b[34m2020-08-26 00:44:15,643 INFO - tensorflow - global_step/sec: 14.2954\u001b[0m\n",
      "\u001b[34m2020-08-26 00:44:15,644 INFO - tensorflow - loss = 0.43756026, step = 400 (6.995 sec)\u001b[0m\n",
      "\u001b[34m2020-08-26 00:44:22,651 INFO - tensorflow - global_step/sec: 14.2695\u001b[0m\n",
      "\u001b[34m2020-08-26 00:44:22,652 INFO - tensorflow - loss = 0.3800785, step = 500 (7.008 sec)\u001b[0m\n",
      "\u001b[34m2020-08-26 00:44:29,646 INFO - tensorflow - global_step/sec: 14.2961\u001b[0m\n",
      "\u001b[34m2020-08-26 00:44:29,647 INFO - tensorflow - loss = 0.252833, step = 600 (6.995 sec)\u001b[0m\n",
      "\u001b[34m2020-08-26 00:44:36,641 INFO - tensorflow - global_step/sec: 14.2955\u001b[0m\n",
      "\u001b[34m2020-08-26 00:44:36,642 INFO - tensorflow - loss = 0.1417281, step = 700 (6.995 sec)\u001b[0m\n",
      "\u001b[34m2020-08-26 00:44:43,655 INFO - tensorflow - global_step/sec: 14.258\u001b[0m\n",
      "\u001b[34m2020-08-26 00:44:43,656 INFO - tensorflow - loss = 0.09329172, step = 800 (7.014 sec)\u001b[0m\n",
      "\u001b[34m2020-08-26 00:44:50,660 INFO - tensorflow - global_step/sec: 14.2741\u001b[0m\n",
      "\u001b[34m2020-08-26 00:44:50,661 INFO - tensorflow - loss = 0.03202069, step = 900 (7.006 sec)\u001b[0m\n",
      "\u001b[34m2020-08-26 00:44:57,615 INFO - tensorflow - Saving checkpoints for 1000 into s3://sagemaker-us-east-1-471361871242/sagemaker-tensorflow-2020-08-26-00-36-23-892/checkpoints/model.ckpt.\u001b[0m\n",
      "\u001b[34mFound 22000 images belonging to 2 classes.\u001b[0m\n",
      "\u001b[34m2020-08-26 00:45:01,259 INFO - tensorflow - Calling model_fn.\u001b[0m\n",
      "\u001b[34m2020-08-26 00:45:01,451 INFO - tensorflow - Done calling model_fn.\u001b[0m\n",
      "\u001b[34m2020-08-26 00:45:01,472 INFO - tensorflow - Starting evaluation at 2020-08-26-00:45:01\u001b[0m\n",
      "\u001b[34m2020-08-26 00:45:01,573 INFO - tensorflow - Graph was finalized.\u001b[0m\n",
      "\u001b[34m2020-08-26 00:45:01,681 INFO - tensorflow - Restoring parameters from s3://sagemaker-us-east-1-471361871242/sagemaker-tensorflow-2020-08-26-00-36-23-892/checkpoints/model.ckpt-1000\u001b[0m\n",
      "\u001b[34m2020-08-26 00:45:02,558 INFO - tensorflow - Running local_init_op.\u001b[0m\n",
      "\u001b[34m2020-08-26 00:45:02,566 INFO - tensorflow - Done running local_init_op.\u001b[0m\n",
      "\u001b[34m2020-08-26 00:45:03,042 INFO - tensorflow - Evaluation [10/100]\u001b[0m\n",
      "\u001b[34m2020-08-26 00:45:03,281 INFO - tensorflow - Evaluation [20/100]\u001b[0m\n",
      "\u001b[34m2020-08-26 00:45:03,524 INFO - tensorflow - Evaluation [30/100]\u001b[0m\n",
      "\u001b[34m2020-08-26 00:45:03,766 INFO - tensorflow - Evaluation [40/100]\u001b[0m\n",
      "\u001b[34m2020-08-26 00:45:04,006 INFO - tensorflow - Evaluation [50/100]\u001b[0m\n",
      "\u001b[34m2020-08-26 00:45:04,248 INFO - tensorflow - Evaluation [60/100]\u001b[0m\n",
      "\u001b[34m2020-08-26 00:45:04,490 INFO - tensorflow - Evaluation [70/100]\u001b[0m\n",
      "\u001b[34m2020-08-26 00:45:04,730 INFO - tensorflow - Evaluation [80/100]\u001b[0m\n",
      "\u001b[34m2020-08-26 00:45:04,972 INFO - tensorflow - Evaluation [90/100]\u001b[0m\n",
      "\u001b[34m2020-08-26 00:45:05,214 INFO - tensorflow - Evaluation [100/100]\u001b[0m\n",
      "\u001b[34m2020-08-26 00:45:05,228 INFO - tensorflow - Finished evaluation at 2020-08-26-00:45:05\u001b[0m\n",
      "\u001b[34m2020-08-26 00:45:05,228 INFO - tensorflow - Saving dict for global step 1000: accuracy = 0.53125, global_step = 1000, loss = 2.7908823\u001b[0m\n",
      "\u001b[34m2020-08-26 00:45:06,235 INFO - tensorflow - Saving 'checkpoint_path' summary for global step 1000: s3://sagemaker-us-east-1-471361871242/sagemaker-tensorflow-2020-08-26-00-36-23-892/checkpoints/model.ckpt-1000\u001b[0m\n",
      "\u001b[34m2020-08-26 00:45:07,110 INFO - tensorflow - Calling model_fn.\u001b[0m\n",
      "\u001b[34m2020-08-26 00:45:07,247 INFO - tensorflow - Done calling model_fn.\u001b[0m\n",
      "\u001b[34m2020-08-26 00:45:07,247 INFO - tensorflow - Signatures INCLUDED in export for Eval: None\u001b[0m\n",
      "\u001b[34m2020-08-26 00:45:07,247 INFO - tensorflow - Signatures INCLUDED in export for Classify: None\u001b[0m\n",
      "\u001b[34m2020-08-26 00:45:07,247 INFO - tensorflow - Signatures INCLUDED in export for Regress: None\u001b[0m\n",
      "\u001b[34m2020-08-26 00:45:07,247 INFO - tensorflow - Signatures INCLUDED in export for Predict: ['serving_default']\u001b[0m\n",
      "\u001b[34m2020-08-26 00:45:07,248 INFO - tensorflow - Signatures INCLUDED in export for Train: None\u001b[0m\n",
      "\u001b[34m2020-08-26 00:45:07,496 INFO - tensorflow - Restoring parameters from s3://sagemaker-us-east-1-471361871242/sagemaker-tensorflow-2020-08-26-00-36-23-892/checkpoints/model.ckpt-1000\u001b[0m\n",
      "\u001b[34m2020-08-26 00:45:08,041 WARNING - tensorflow - From /usr/local/lib/python2.7/dist-packages/tensorflow/python/estimator/estimator.py:1046: calling add_meta_graph_and_variables (from tensorflow.python.saved_model.builder_impl) with legacy_init_op is deprecated and will be removed in a future version.\u001b[0m\n",
      "\u001b[34mInstructions for updating:\u001b[0m\n",
      "\u001b[34mPass your op to the equivalent parameter main_op instead.\u001b[0m\n",
      "\u001b[34m2020-08-26 00:45:08,041 INFO - tensorflow - Assets added to graph.\u001b[0m\n",
      "\u001b[34m2020-08-26 00:45:08,042 INFO - tensorflow - No assets to write.\u001b[0m\n",
      "\u001b[34m2020-08-26 00:45:09,444 INFO - tensorflow - SavedModel written to: s3://sagemaker-us-east-1-471361871242/sagemaker-tensorflow-2020-08-26-00-36-23-892/checkpoints/export/Servo/1598402706/saved_model.pb\u001b[0m\n",
      "\u001b[34m2020-08-26 00:45:10,147 INFO - tensorflow - Loss for final step: 0.016755555.\u001b[0m\n",
      "\u001b[34m2020-08-26 00:45:10,462 INFO - tf_container - Downloaded saved model at /opt/ml/model/export/Servo/1598402706\u001b[0m\n",
      "\n",
      "2020-08-26 00:45:19 Uploading - Uploading generated training model\n",
      "2020-08-26 00:45:19 Completed - Training job completed\n",
      "Training seconds: 357\n",
      "Billable seconds: 357\n"
     ]
    }
   ],
   "source": [
    "print(\"Training ...\")\n",
    "estimator.fit({'training': train_input_path, 'eval': validation_input_path})"
   ]
  },
  {
   "cell_type": "markdown",
   "metadata": {},
   "source": [
    "## Despliegue\n",
    "\n",
    "Una vez completado el entrenamiento , desplegamos el modelo en un servidor de forma de que sea posible invocarlo para hacer consultas"
   ]
  },
  {
   "cell_type": "code",
   "execution_count": 50,
   "metadata": {},
   "outputs": [
    {
     "name": "stderr",
     "output_type": "stream",
     "text": [
      "Parameter image will be renamed to image_uri in SageMaker Python SDK v2.\n",
      "2.1.0 is the latest version of tensorflow that supports Python 2. Newer versions of tensorflow will only be available for Python 3.Please set the argument \"py_version='py3'\" to use the Python 3 tensorflow image.\n",
      "'create_image_uri' will be deprecated in favor of 'ImageURIProvider' class in SageMaker Python SDK v2.\n"
     ]
    },
    {
     "name": "stdout",
     "output_type": "stream",
     "text": [
      "\n",
      "Deploying ...\n",
      "------------------!"
     ]
    }
   ],
   "source": [
    "print(\"\\nDeploying ...\")\n",
    "predictor = estimator.deploy(initial_instance_count=1, instance_type='ml.p2.xlarge')"
   ]
  },
  {
   "cell_type": "markdown",
   "metadata": {},
   "source": [
    "Para finalizar imprimimos la dirección donde quedó desplegado el modelo, que deberemos copiar en el script test.ypynb como parámetro de entrada"
   ]
  },
  {
   "cell_type": "code",
   "execution_count": 51,
   "metadata": {},
   "outputs": [
    {
     "name": "stdout",
     "output_type": "stream",
     "text": [
      "Endpoint para consultas ---> seleccionar y copiar:\n",
      "\n",
      "sagemaker-tensorflow-2020-08-26-00-36-23-892\n",
      "\n",
      "Fin!!!\n"
     ]
    }
   ],
   "source": [
    "print(\"Endpoint para consultas ---> seleccionar y copiar:\\n\")\n",
    "print(predictor.endpoint)\n",
    "print(\"\\nFin!!!\")"
   ]
  }
 ],
 "metadata": {
  "kernelspec": {
   "display_name": "conda_tensorflow_p36",
   "language": "python",
   "name": "conda_tensorflow_p36"
  },
  "language_info": {
   "codemirror_mode": {
    "name": "ipython",
    "version": 3
   },
   "file_extension": ".py",
   "mimetype": "text/x-python",
   "name": "python",
   "nbconvert_exporter": "python",
   "pygments_lexer": "ipython3",
   "version": "3.6.10"
  },
  "toc-showcode": false,
  "toc-showmarkdowntxt": false
 },
 "nbformat": 4,
 "nbformat_minor": 4
}
