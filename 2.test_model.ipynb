{
 "cells": [
  {
   "cell_type": "markdown",
   "metadata": {},
   "source": [
    "# 2. Test Model Notebook\n",
    "\n",
    "Con este código puede probar el resultado del modelo desplegado\n",
    "\n",
    "## Declaraciones"
   ]
  },
  {
   "cell_type": "code",
   "execution_count": null,
   "metadata": {},
   "outputs": [],
   "source": [
    "import sagemaker\n",
    "import numpy as np\n",
    "from tensorflow.python.keras.preprocessing.image import load_img\n",
    "from sagemaker.predictor import json_deserializer, json_serializer\n",
    "from PIL import Image"
   ]
  },
  {
   "cell_type": "markdown",
   "metadata": {},
   "source": [
    "## Parámetros de entrada\n",
    "\n",
    "El único parámetro necesario es el nombre del endpoint donde está desplegado el modelo"
   ]
  },
  {
   "cell_type": "code",
   "execution_count": null,
   "metadata": {},
   "outputs": [],
   "source": [
    "endpoint = 'sagemaker-tensorflow-2020-08-26-01-04-33-292'"
   ]
  },
  {
   "cell_type": "markdown",
   "metadata": {},
   "source": [
    "## Test\n",
    "\n",
    "El resto del código lo que hace es escojer al azar un conjunto de 5 fotos del juego de validación y consultar al modelo si es un perro o un gato"
   ]
  },
  {
   "cell_type": "code",
   "execution_count": null,
   "metadata": {},
   "outputs": [],
   "source": [
    "predictor = sagemaker.predictor.RealTimePredictor(\n",
    "    endpoint=endpoint,\n",
    "    serializer=json_serializer,\n",
    "    deserializer=json_deserializer,\n",
    "    content_type='application/json',\n",
    "    accept='application/json',)\n",
    "\n",
    "archivos = ['4808.jpg','4809.jpg','4820.jpg','4821.jpg', '9718.jpg','9724.jpg','9726.jpg','9727.jpg']\n",
    "\n",
    "for archivo in archivos:\n",
    "        image = load_img(\"test_images/\" + archivo, target_size=(128, 128))\n",
    "        image_array = np.array(image).reshape((1, 128, 128, 3))\n",
    "        image_resized = Image.fromarray(image_array[0])\n",
    "        display(image_resized)\n",
    "        result = predictor.predict({'inputs_input': image_array})\n",
    "        print(result)\n",
    "\n"
   ]
  }
 ],
 "metadata": {
  "kernelspec": {
   "display_name": "conda_tensorflow_p36",
   "language": "python",
   "name": "conda_tensorflow_p36"
  },
  "language_info": {
   "codemirror_mode": {
    "name": "ipython",
    "version": 3
   },
   "file_extension": ".py",
   "mimetype": "text/x-python",
   "name": "python",
   "nbconvert_exporter": "python",
   "pygments_lexer": "ipython3",
   "version": "3.6.10"
  }
 },
 "nbformat": 4,
 "nbformat_minor": 4
}
